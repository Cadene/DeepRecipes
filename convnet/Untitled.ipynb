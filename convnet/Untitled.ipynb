{
 "cells": [
  {
   "cell_type": "code",
   "execution_count": 6,
   "metadata": {
    "collapsed": true
   },
   "outputs": [],
   "source": [
    "require 'gnuplot'\n",
    "\n",
    "N = 10 -- Number of points per class\n",
    "D = 2 -- dimensionality\n",
    "K = 3 -- number of classes\n",
    "X = torch.zeros(N*K,D)\n",
    "y = torch.zeros(N*K)\n",
    "\n",
    "-- local ix, r, t, X1, X2\n",
    "\n",
    "for j = 1, K do\n",
    "    r  = torch.linspace(0.0, 1, N)\n",
    "    t  = torch.linspace((j-1)*4, j*4, N) + torch.randn(N)*0.2\n",
    "    X1 = torch.sin(t)\n",
    "    X2 = torch.cos(t)\n",
    "    for i = 1, N do\n",
    "        xi = N*(j-1)+i\n",
    "        X[xi][1] = r[i]*X1[i]\n",
    "        X[xi][2] = r[i]*X2[i]\n",
    "        y[xi]    = j\n",
    "    end\n",
    "end\n",
    "\n",
    "\n"
   ]
  },
  {
   "cell_type": "code",
   "execution_count": 7,
   "metadata": {
    "collapsed": false
   },
   "outputs": [
    {
     "data": {
      "text/plain": [
       " 0,0000  0,0000\n",
       " 0,0468  0,1008\n",
       " 0,1872  0,1197\n",
       " 0,3119  0,1177\n",
       " 0,4439  0,0223\n",
       " 0,4245 -0,3583\n",
       " 0,2569 -0,6152\n",
       " 0,0289 -0,7772\n",
       "-0,5531 -0,6959\n",
       "-0,5279 -0,8493\n",
       "-0,0000 -0,0000\n",
       "-0,1098 -0,0168\n",
       "-0,2221 -0,0078\n",
       "-0,2484  0,2223\n",
       "-0,2472  0,3694\n",
       "-0,2032  0,5170\n",
       " 0,3641  0,5584\n",
       " 0,5863  0,5111\n",
       " 0,7766  0,4324\n",
       " 0,9957 -0,0929\n",
       " 0,0000  0,0000\n",
       " 0,0840 -0,0727\n",
       " 0,1006 -0,1982\n",
       " 0,0434 -0,3305\n",
       "-0,1482 -0,4190\n",
       "-0,2225 -0,5091\n",
       "-0,4969 -0,4445\n",
       "-0,7761 -0,0509\n",
       "-0,7341  0,5013\n",
       "-0,4762  0,8793\n",
       "[torch.DoubleTensor of size 30x2]\n",
       "\n"
      ]
     },
     "execution_count": 7,
     "metadata": {},
     "output_type": "execute_result"
    }
   ],
   "source": [
    "print(X)"
   ]
  },
  {
   "cell_type": "code",
   "execution_count": 8,
   "metadata": {
    "collapsed": false
   },
   "outputs": [
    {
     "data": {
      "text/plain": [
       "\n"
      ]
     },
     "execution_count": 8,
     "metadata": {},
     "output_type": "execute_result"
    }
   ],
   "source": [
    "gnuplot.plot(X[{{},1}], X[{{},2}])"
   ]
  },
  {
   "cell_type": "code",
   "execution_count": null,
   "metadata": {
    "collapsed": true
   },
   "outputs": [],
   "source": []
  }
 ],
 "metadata": {
  "kernelspec": {
   "display_name": "iTorch",
   "language": "lua",
   "name": "itorch"
  },
  "language_info": {
   "name": "lua",
   "version": "20100"
  }
 },
 "nbformat": 4,
 "nbformat_minor": 0
}
