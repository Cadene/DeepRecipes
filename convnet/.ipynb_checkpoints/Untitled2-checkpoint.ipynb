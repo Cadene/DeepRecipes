{
 "cells": [
  {
   "cell_type": "code",
   "execution_count": 1,
   "metadata": {
    "collapsed": true
   },
   "outputs": [],
   "source": [
    "require 'nn'\n",
    "require 'image'\n",
    "require 'src/SpatialArtisticConvolution'"
   ]
  },
  {
   "cell_type": "code",
   "execution_count": 2,
   "metadata": {
    "collapsed": false
   },
   "outputs": [
    {
     "data": {
      "text/plain": [
       "\n",
       "   3\n",
       " 512\n",
       " 512\n",
       "[torch.LongStorage of size 3]\n",
       "\n"
      ]
     },
     "execution_count": 2,
     "metadata": {},
     "output_type": "execute_result"
    }
   ],
   "source": [
    "input = image.lena()\n",
    "print(input:size())"
   ]
  },
  {
   "cell_type": "code",
   "execution_count": 4,
   "metadata": {
    "collapsed": false
   },
   "outputs": [
    {
     "ename": "...ne/torch/install/share/lua/5.1/nn/SpatialConvolution.lua:58: attempt to index local 'input' (a nil value)\nstack traceback:\n\t...ne/torch/install/share/lua/5.1/nn/SpatialConvolution.lua:58: in function 'makeContiguous'\n\t...ne/torch/install/share/lua/5.1/nn/SpatialConvolution.lua:101: in function 'updateGradInput'\n\t/Users/remicadene/torch/install/share/lua/5.1/nn/Module.lua:30: in function 'backward'\n\t[string \"model = nn.Sequential()...\"]:5: in main chunk\n\t[C]: in function 'xpcall'\n\t...s/remicadene/torch/install/share/lua/5.1/itorch/main.lua:177: in function <...s/remicadene/torch/install/share/lua/5.1/itorch/main.lua:143>\n\t...s/remicadene/torch/install/share/lua/5.1/lzmq/poller.lua:75: in function 'poll'\n\t...emicadene/torch/install/share/lua/5.1/lzmq/impl/loop.lua:307: in function 'poll'\n\t...emicadene/torch/install/share/lua/5.1/lzmq/impl/loop.lua:325: in function 'sleep_ex'\n\t...emicadene/torch/install/share/lua/5.1/lzmq/impl/loop.lua:370: in function 'start'\n\t...s/remicadene/torch/install/share/lua/5.1/itorch/main.lua:344: in main chunk\n\t[C]: in function 'require'\n\t[string \"arg={'/Users/remicadene/.ipython/profile_defa...\"]:1: in main chunk",
     "evalue": "",
     "output_type": "error",
     "traceback": [
      "...ne/torch/install/share/lua/5.1/nn/SpatialConvolution.lua:58: attempt to index local 'input' (a nil value)\nstack traceback:\n\t...ne/torch/install/share/lua/5.1/nn/SpatialConvolution.lua:58: in function 'makeContiguous'\n\t...ne/torch/install/share/lua/5.1/nn/SpatialConvolution.lua:101: in function 'updateGradInput'\n\t/Users/remicadene/torch/install/share/lua/5.1/nn/Module.lua:30: in function 'backward'\n\t[string \"model = nn.Sequential()...\"]:5: in main chunk\n\t[C]: in function 'xpcall'\n\t...s/remicadene/torch/install/share/lua/5.1/itorch/main.lua:177: in function <...s/remicadene/torch/install/share/lua/5.1/itorch/main.lua:143>\n\t...s/remicadene/torch/install/share/lua/5.1/lzmq/poller.lua:75: in function 'poll'\n\t...emicadene/torch/install/share/lua/5.1/lzmq/impl/loop.lua:307: in function 'poll'\n\t...emicadene/torch/install/share/lua/5.1/lzmq/impl/loop.lua:325: in function 'sleep_ex'\n\t...emicadene/torch/install/share/lua/5.1/lzmq/impl/loop.lua:370: in function 'start'\n\t...s/remicadene/torch/install/share/lua/5.1/itorch/main.lua:344: in main chunk\n\t[C]: in function 'require'\n\t[string \"arg={'/Users/remicadene/.ipython/profile_defa...\"]:1: in main chunk"
     ]
    }
   ],
   "source": [
    "model = nn.Sequential()\n",
    "-- model:add()\n",
    "model = nn.SpatialConvolution(3, 6, 3, 3, 1, 1, 0, 0)\n",
    "output = model:forward(input)\n",
    "model:backward(input, output)\n",
    "print(output:size())"
   ]
  },
  {
   "cell_type": "code",
   "execution_count": null,
   "metadata": {
    "collapsed": true
   },
   "outputs": [],
   "source": []
  }
 ],
 "metadata": {
  "kernelspec": {
   "display_name": "iTorch",
   "language": "lua",
   "name": "itorch"
  },
  "language_info": {
   "name": "lua",
   "version": "20100"
  }
 },
 "nbformat": 4,
 "nbformat_minor": 0
}
