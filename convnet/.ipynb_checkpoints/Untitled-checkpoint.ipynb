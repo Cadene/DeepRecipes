{
 "cells": [
  {
   "cell_type": "code",
   "execution_count": 1,
   "metadata": {
    "collapsed": true
   },
   "outputs": [],
   "source": [
    "require 'gnuplot'\n",
    "\n",
    "N = 10 -- Number of points per class\n",
    "D = 2 -- dimensionality\n",
    "K = 3 -- number of classes\n",
    "X = torch.zeros(N*K,D)\n",
    "y = torch.zeros(N*K)\n",
    "\n",
    "-- local ix, r, t, X1, X2\n",
    "\n",
    "for j = 1, K do\n",
    "    r  = torch.linspace(0.0, 1, N)\n",
    "    t  = torch.linspace((j-1)*4, j*4, N) + torch.randn(N)*0.2\n",
    "    X1 = torch.sin(t)\n",
    "    X2 = torch.cos(t)\n",
    "    for i = 1, N do\n",
    "        xi = N*(j-1)+i\n",
    "        X[xi][1] = r[i]*X1[i]\n",
    "        X[xi][2] = r[i]*X2[i]\n",
    "        y[xi]    = j\n",
    "    end\n",
    "end\n",
    "\n",
    "\n"
   ]
  },
  {
   "cell_type": "code",
   "execution_count": 5,
   "metadata": {
    "collapsed": false
   },
   "outputs": [
    {
     "data": {
      "text/plain": [
       "nil\t\n"
      ]
     },
     "execution_count": 5,
     "metadata": {},
     "output_type": "execute_result"
    }
   ],
   "source": [
    "print(X)"
   ]
  },
  {
   "cell_type": "code",
   "execution_count": null,
   "metadata": {
    "collapsed": true
   },
   "outputs": [],
   "source": [
    "gnuplot.plot(X[{{},1}], X[{{},2}])"
   ]
  }
 ],
 "metadata": {
  "kernelspec": {
   "display_name": "iTorch",
   "language": "lua",
   "name": "itorch"
  },
  "language_info": {
   "name": "lua",
   "version": "20100"
  }
 },
 "nbformat": 4,
 "nbformat_minor": 0
}
