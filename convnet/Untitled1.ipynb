{
 "cells": [
  {
   "cell_type": "code",
   "execution_count": 23,
   "metadata": {
    "collapsed": false
   },
   "outputs": [],
   "source": [
    "require 'src/DatabaseFactory'\n",
    "\n",
    "opt = {}\n",
    "--opt.path2load_data = '/Users/remicadene/data/recipe_101_low/'\n",
    "opt.path2load_data = '/Users/remicadene/Dropbox/_Docs/UPMC/LIP6/Torch/DeepRecipes/data/test/'\n",
    "opt.pc_train = 0.8\n",
    "\n",
    "database = DatabaseFactory.generate_recipe101_augmented(opt)\n",
    "trainset = database:get_trainset()\n",
    "\n",
    "mean, std = trainset:process_mean_std()"
   ]
  },
  {
   "cell_type": "code",
   "execution_count": 24,
   "metadata": {
    "collapsed": false
   },
   "outputs": [
    {
     "data": {
      "text/plain": [
       "20\t\n"
      ]
     },
     "execution_count": 24,
     "metadata": {},
     "output_type": "execute_result"
    }
   ],
   "source": [
    "trainset:size()"
   ]
  },
  {
   "cell_type": "code",
   "execution_count": 25,
   "metadata": {
    "collapsed": false
   },
   "outputs": [
    {
     "data": {
      "text/plain": [
       "{\n",
       "  1 : image1.jpg\n",
       "  2 : image1 - copie.jpg\n",
       "}\n",
       " 1\n",
       " 2\n",
       "[torch.DoubleTensor of size 2]\n",
       "\n"
      ]
     },
     "execution_count": 25,
     "metadata": {},
     "output_type": "execute_result"
    }
   ],
   "source": [
    "print(trainset.path2img)\n",
    "print(trainset.label)"
   ]
  },
  {
   "cell_type": "code",
   "execution_count": 26,
   "metadata": {
    "collapsed": false
   },
   "outputs": [
    {
     "data": {
      "text/plain": [
       "20\t\n",
       "\n",
       "   3\n",
       " 221\n",
       " 221\n",
       "[torch.LongStorage of size 3]\n",
       "\n",
       "127,5\t\n",
       "\n",
       "   3\n",
       " 221\n",
       " 221\n",
       "[torch.LongStorage of size 3]\n",
       "\n",
       "570,19733426245\t\n"
      ]
     },
     "execution_count": 26,
     "metadata": {},
     "output_type": "execute_result"
    }
   ],
   "source": [
    "-- mean:mul(255)\n",
    "print(trainset:size())\n",
    "print(mean:size())\n",
    "print(mean[{1,1,1}])\n",
    "print(std:size())\n",
    "print(std[{1,1,1}])"
   ]
  },
  {
   "cell_type": "code",
   "execution_count": 16,
   "metadata": {
    "collapsed": false
   },
   "outputs": [
    {
     "data": {
      "image/png": "[encoded data removed]",
      "text/plain": [
       "Console does not support images"
      ]
     },
     "metadata": {
      "image/png": {
       "height": 221,
       "width": 221
      }
     },
     "output_type": "display_data"
    },
    {
     "data": {
      "image/png": "[encoded data removed]",
      "text/plain": [
       "Console does not support images"
      ]
     },
     "metadata": {
      "image/png": {
       "height": 221,
       "width": 221
      }
     },
     "output_type": "display_data"
    }
   ],
   "source": [
    "img, label = trainset:get(1)\n",
    "itorch.image(img)\n",
    "img2 = img:clone()\n",
    "img2:cmul(mean)\n",
    "img2:cdiv(std)\n",
    "itorch.image(img2)"
   ]
  },
  {
   "cell_type": "code",
   "execution_count": null,
   "metadata": {
    "collapsed": false
   },
   "outputs": [],
   "source": [
    "mean:div(255)\n",
    "itorch.image(mean)\n",
    "print(mean[{2,2,1}])"
   ]
  },
  {
   "cell_type": "code",
   "execution_count": null,
   "metadata": {
    "collapsed": true
   },
   "outputs": [],
   "source": []
  }
 ],
 "metadata": {
  "kernelspec": {
   "display_name": "iTorch",
   "language": "lua",
   "name": "itorch"
  },
  "language_info": {
   "name": "lua",
   "version": "20100"
  }
 },
 "nbformat": 4,
 "nbformat_minor": 0
}
